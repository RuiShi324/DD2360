{
  "nbformat": 4,
  "nbformat_minor": 0,
  "metadata": {
    "colab": {
      "provenance": []
    },
    "kernelspec": {
      "name": "python3",
      "display_name": "Python 3"
    },
    "language_info": {
      "name": "python"
    },
    "accelerator": "GPU",
    "gpuClass": "standard"
  },
  "cells": [
    {
      "cell_type": "code",
      "execution_count": 66,
      "metadata": {
        "colab": {
          "base_uri": "https://localhost:8080/"
        },
        "id": "HMQlIdtCQoNt",
        "outputId": "160a4734-7e0d-458f-b9c7-e1603970a8d2"
      },
      "outputs": [
        {
          "output_type": "stream",
          "name": "stdout",
          "text": [
            "bandwidthTest  deviceQueryDrv\t\ttopologyQuery\n",
            "deviceQuery    p2pBandwidthLatencyTest\tUnifiedMemoryPerf\n"
          ]
        }
      ],
      "source": [
        "!ls /usr/local/cuda-11/samples/1_Utilities/\n"
      ]
    },
    {
      "cell_type": "code",
      "source": [
        "from google.colab import drive\n",
        "drive.mount('/content/drive')"
      ],
      "metadata": {
        "colab": {
          "base_uri": "https://localhost:8080/"
        },
        "id": "-MY1GBCcQ6pJ",
        "outputId": "3b5d312f-b4ee-4b56-95ac-9f3a2e52d66e"
      },
      "execution_count": 67,
      "outputs": [
        {
          "output_type": "stream",
          "name": "stdout",
          "text": [
            "Drive already mounted at /content/drive; to attempt to forcibly remount, call drive.mount(\"/content/drive\", force_remount=True).\n"
          ]
        }
      ]
    },
    {
      "cell_type": "code",
      "source": [
        "!ls"
      ],
      "metadata": {
        "colab": {
          "base_uri": "https://localhost:8080/"
        },
        "id": "-XgQR-AbT_M6",
        "outputId": "50069c74-877a-44a2-c367-814a25472c22"
      },
      "execution_count": 37,
      "outputs": [
        {
          "output_type": "stream",
          "name": "stdout",
          "text": [
            "b+tree.out  kernel  main.h  Makefile  README  util\n",
            "common.h    main.c  main.o  penmp     run\n"
          ]
        }
      ]
    },
    {
      "cell_type": "code",
      "source": [
        "!nvcc --version\n",
        "!nvidia-smi"
      ],
      "metadata": {
        "colab": {
          "base_uri": "https://localhost:8080/"
        },
        "id": "SsKgymZaX4TI",
        "outputId": "cc0ae0ef-571f-4588-da33-0ef596ef19dd"
      },
      "execution_count": 38,
      "outputs": [
        {
          "output_type": "stream",
          "name": "stdout",
          "text": [
            "nvcc: NVIDIA (R) Cuda compiler driver\n",
            "Copyright (c) 2005-2021 NVIDIA Corporation\n",
            "Built on Sun_Feb_14_21:12:58_PST_2021\n",
            "Cuda compilation tools, release 11.2, V11.2.152\n",
            "Build cuda_11.2.r11.2/compiler.29618528_0\n",
            "Wed Nov 30 16:55:00 2022       \n",
            "+-----------------------------------------------------------------------------+\n",
            "| NVIDIA-SMI 460.32.03    Driver Version: 460.32.03    CUDA Version: 11.2     |\n",
            "|-------------------------------+----------------------+----------------------+\n",
            "| GPU  Name        Persistence-M| Bus-Id        Disp.A | Volatile Uncorr. ECC |\n",
            "| Fan  Temp  Perf  Pwr:Usage/Cap|         Memory-Usage | GPU-Util  Compute M. |\n",
            "|                               |                      |               MIG M. |\n",
            "|===============================+======================+======================|\n",
            "|   0  Tesla T4            Off  | 00000000:00:04.0 Off |                    0 |\n",
            "| N/A   32C    P8     9W /  70W |      0MiB / 15109MiB |      0%      Default |\n",
            "|                               |                      |                  N/A |\n",
            "+-------------------------------+----------------------+----------------------+\n",
            "                                                                               \n",
            "+-----------------------------------------------------------------------------+\n",
            "| Processes:                                                                  |\n",
            "|  GPU   GI   CI        PID   Type   Process name                  GPU Memory |\n",
            "|        ID   ID                                                   Usage      |\n",
            "|=============================================================================|\n",
            "|  No running processes found                                                 |\n",
            "+-----------------------------------------------------------------------------+\n"
          ]
        }
      ]
    },
    {
      "cell_type": "markdown",
      "source": [
        "### LUD"
      ],
      "metadata": {
        "id": "ydd_52D-sjhO"
      }
    },
    {
      "cell_type": "code",
      "source": [
        "%cd /content/drive/MyDrive/Colab Notebooks/rodinia_3.1/cuda/lud"
      ],
      "metadata": {
        "colab": {
          "base_uri": "https://localhost:8080/"
        },
        "id": "MsNznLu3rLj6",
        "outputId": "003c77c3-3690-4ed7-fa0a-587e31e80525"
      },
      "execution_count": 85,
      "outputs": [
        {
          "output_type": "stream",
          "name": "stdout",
          "text": [
            "/content/drive/MyDrive/Colab Notebooks/rodinia_3.1/cuda/lud\n"
          ]
        }
      ]
    },
    {
      "cell_type": "code",
      "source": [
        "!make clean\n",
        "!make"
      ],
      "metadata": {
        "colab": {
          "base_uri": "https://localhost:8080/"
        },
        "id": "WtFlgUCsr6ju",
        "outputId": "95e5fb94-f6cf-41c8-a258-c383bd30afb9"
      },
      "execution_count": 86,
      "outputs": [
        {
          "output_type": "stream",
          "name": "stdout",
          "text": [
            "cd cuda; make clean\n",
            "make[1]: Entering directory '/content/drive/MyDrive/Colab Notebooks/rodinia_3.1/cuda/lud/cuda'\n",
            "rm -f lud_cuda ../common/common.o lud.o lud_kernel.o *.linkinfo\n",
            "make[1]: Leaving directory '/content/drive/MyDrive/Colab Notebooks/rodinia_3.1/cuda/lud/cuda'\n",
            "cd cuda; make\n",
            "make[1]: Entering directory '/content/drive/MyDrive/Colab Notebooks/rodinia_3.1/cuda/lud/cuda'\n",
            "nvcc  -I../common -O3 -use_fast_math -arch=sm_75 -lm  -DGPU_TIMER  -o ../common/common.o -c ../common/common.c\n",
            "\u001b[01m\u001b[K../common/common.c:\u001b[m\u001b[K In function ‘\u001b[01m\u001b[Kcreate_matrix_from_file\u001b[m\u001b[K’:\n",
            "\u001b[01m\u001b[K../common/common.c:51:3:\u001b[m\u001b[K \u001b[01;35m\u001b[Kwarning: \u001b[m\u001b[Kignoring return value of ‘\u001b[01m\u001b[Kfscanf\u001b[m\u001b[K’, declared with attribute warn_unused_result [\u001b[01;35m\u001b[K-Wunused-result\u001b[m\u001b[K]\n",
            "   \u001b[01;35m\u001b[Kfscanf(fp, \"%d\\n\", &size)\u001b[m\u001b[K;\n",
            "   \u001b[01;35m\u001b[K^~~~~~~~~~~~~~~~~~~~~~~~~\u001b[m\u001b[K\n",
            "\u001b[01m\u001b[K../common/common.c:61:11:\u001b[m\u001b[K \u001b[01;35m\u001b[Kwarning: \u001b[m\u001b[Kignoring return value of ‘\u001b[01m\u001b[Kfscanf\u001b[m\u001b[K’, declared with attribute warn_unused_result [\u001b[01;35m\u001b[K-Wunused-result\u001b[m\u001b[K]\n",
            "           \u001b[01;35m\u001b[Kfscanf(fp, \"%f \", m+i*size+j)\u001b[m\u001b[K;\n",
            "           \u001b[01;35m\u001b[K^~~~~~~~~~~~~~~~~~~~~~~~~~~~~\u001b[m\u001b[K\n",
            "nvcc  -I../common -O3 -use_fast_math -arch=sm_75 -lm  -DGPU_TIMER  -o lud.o -c lud.cu\n",
            "nvcc  -I../common -O3 -use_fast_math -arch=sm_75 -lm  -DGPU_TIMER  -o lud_kernel.o -c lud_kernel.cu\n",
            "nvcc -I../common -O3 -use_fast_math -arch=sm_75 -lm  -o lud_cuda  ../common/common.o lud.o lud_kernel.o\n",
            "make[1]: Leaving directory '/content/drive/MyDrive/Colab Notebooks/rodinia_3.1/cuda/lud/cuda'\n"
          ]
        }
      ]
    },
    {
      "cell_type": "code",
      "source": [
        "!cuda/lud_cuda -s 256"
      ],
      "metadata": {
        "colab": {
          "base_uri": "https://localhost:8080/"
        },
        "id": "UJjEZclTr2RK",
        "outputId": "9e3f8f91-020f-4314-f427-b7dc80ae4556"
      },
      "execution_count": 87,
      "outputs": [
        {
          "output_type": "stream",
          "name": "stdout",
          "text": [
            "WG size of kernel = 16 X 16\n",
            "Generate input matrix internally, size =256\n",
            "Creating matrix internally size=256\n",
            "Time consumed(ms): 1.531000\n"
          ]
        }
      ]
    },
    {
      "cell_type": "code",
      "source": [
        "%cd '/content/drive/MyDrive/Colab Notebooks/rodinia_3.1/openmp/lud'"
      ],
      "metadata": {
        "colab": {
          "base_uri": "https://localhost:8080/"
        },
        "id": "apfLfM_je0Sn",
        "outputId": "f610a520-5c40-4332-e310-a945efd5baba"
      },
      "execution_count": 89,
      "outputs": [
        {
          "output_type": "stream",
          "name": "stdout",
          "text": [
            "/content/drive/MyDrive/Colab Notebooks/rodinia_3.1/openmp/lud\n"
          ]
        }
      ]
    },
    {
      "cell_type": "code",
      "source": [
        "!make clean\n",
        "!make"
      ],
      "metadata": {
        "colab": {
          "base_uri": "https://localhost:8080/"
        },
        "id": "DflerbyZXojx",
        "outputId": "299d8f6a-5d72-4580-9c93-1b1e91d531b0"
      },
      "execution_count": 92,
      "outputs": [
        {
          "output_type": "stream",
          "name": "stdout",
          "text": [
            "cd omp; make clean ; make -f Makefile.offload clean\n",
            "make[1]: Entering directory '/content/drive/MyDrive/Colab Notebooks/rodinia_3.1/openmp/lud/omp'\n",
            "rm --force lud_omp lud.o lud_omp.o ../common/common.o *~\n",
            "make[1]: Leaving directory '/content/drive/MyDrive/Colab Notebooks/rodinia_3.1/openmp/lud/omp'\n",
            "make[1]: Entering directory '/content/drive/MyDrive/Colab Notebooks/rodinia_3.1/openmp/lud/omp'\n",
            "rm --force lud_omp_offload lud.o lud_omp.o ../common/common.o *~\n",
            "make[1]: Leaving directory '/content/drive/MyDrive/Colab Notebooks/rodinia_3.1/openmp/lud/omp'\n",
            "cd omp; make\n",
            "make[1]: Entering directory '/content/drive/MyDrive/Colab Notebooks/rodinia_3.1/openmp/lud/omp'\n",
            "gcc  -c -Wall -O3   -fopenmp -I../common lud.c -o lud.o\n",
            "gcc  -c -Wall -O3   -fopenmp -I../common lud_omp.c -o lud_omp.o\n",
            "gcc  -c -Wall -O3   -fopenmp -I../common ../common/common.c -o ../common/common.o\n",
            "\u001b[01m\u001b[K../common/common.c:\u001b[m\u001b[K In function ‘\u001b[01m\u001b[Kcreate_matrix_from_file\u001b[m\u001b[K’:\n",
            "\u001b[01m\u001b[K../common/common.c:51:3:\u001b[m\u001b[K \u001b[01;35m\u001b[Kwarning: \u001b[m\u001b[Kignoring return value of ‘\u001b[01m\u001b[Kfscanf\u001b[m\u001b[K’, declared with attribute warn_unused_result [\u001b[01;35m\u001b[K-Wunused-result\u001b[m\u001b[K]\n",
            "   \u001b[01;35m\u001b[Kfscanf(fp, \"%d\\n\", &size)\u001b[m\u001b[K;\n",
            "   \u001b[01;35m\u001b[K^~~~~~~~~~~~~~~~~~~~~~~~~\u001b[m\u001b[K\n",
            "\u001b[01m\u001b[K../common/common.c:61:11:\u001b[m\u001b[K \u001b[01;35m\u001b[Kwarning: \u001b[m\u001b[Kignoring return value of ‘\u001b[01m\u001b[Kfscanf\u001b[m\u001b[K’, declared with attribute warn_unused_result [\u001b[01;35m\u001b[K-Wunused-result\u001b[m\u001b[K]\n",
            "           \u001b[01;35m\u001b[Kfscanf(fp, \"%f \", m+i*size+j)\u001b[m\u001b[K;\n",
            "           \u001b[01;35m\u001b[K^~~~~~~~~~~~~~~~~~~~~~~~~~~~~\u001b[m\u001b[K\n",
            "\u001b[01m\u001b[K../common/common.c:\u001b[m\u001b[K In function ‘\u001b[01m\u001b[Klud_verify\u001b[m\u001b[K’:\n",
            "\u001b[01m\u001b[K../common/common.c:187:1:\u001b[m\u001b[K \u001b[01;35m\u001b[Kwarning: \u001b[m\u001b[Kcontrol reaches end of non-void function [\u001b[01;35m\u001b[K-Wreturn-type\u001b[m\u001b[K]\n",
            " \u001b[01;35m\u001b[K}\u001b[m\u001b[K\n",
            " \u001b[01;35m\u001b[K^\u001b[m\u001b[K\n",
            "\u001b[01m\u001b[K../common/common.c:\u001b[m\u001b[K In function ‘\u001b[01m\u001b[Kcreate_matrix_from_random\u001b[m\u001b[K’:\n",
            "\u001b[01m\u001b[K../common/common.c:123:7:\u001b[m\u001b[K \u001b[01;35m\u001b[Kwarning: \u001b[m\u001b[K‘\u001b[01m\u001b[Km\u001b[m\u001b[K’ may be used uninitialized in this function [\u001b[01;35m\u001b[K-Wmaybe-uninitialized\u001b[m\u001b[K]\n",
            "   \u001b[01;35m\u001b[K*mp = m\u001b[m\u001b[K;\n",
            "   \u001b[01;35m\u001b[K~~~~^~~\u001b[m\u001b[K\n",
            "gcc   -fopenmp   -o lud_omp lud.o lud_omp.o ../common/common.o   -lm\n",
            "make[1]: Leaving directory '/content/drive/MyDrive/Colab Notebooks/rodinia_3.1/openmp/lud/omp'\n",
            "cd omp; make -f Makefile.offload\n",
            "make[1]: Entering directory '/content/drive/MyDrive/Colab Notebooks/rodinia_3.1/openmp/lud/omp'\n",
            "gcc   -fopenmp  -o lud_omp_offload lud.o lud_omp.o ../common/common.o   -lm\n",
            "make[1]: Leaving directory '/content/drive/MyDrive/Colab Notebooks/rodinia_3.1/openmp/lud/omp'\n"
          ]
        }
      ]
    },
    {
      "cell_type": "code",
      "source": [
        "!./omp/lud_omp -s 256"
      ],
      "metadata": {
        "colab": {
          "base_uri": "https://localhost:8080/"
        },
        "id": "3SkfJd6ptpXu",
        "outputId": "7d9ae01f-23f5-48f8-b910-881e0f7ec958"
      },
      "execution_count": 93,
      "outputs": [
        {
          "output_type": "stream",
          "name": "stdout",
          "text": [
            "Generate input matrix internally, size =256\n",
            "Creating matrix internally size=256\n",
            "running OMP on host\n",
            "Time consumed(ms): 12.485000\n"
          ]
        }
      ]
    },
    {
      "cell_type": "markdown",
      "source": [
        "### myocyte"
      ],
      "metadata": {
        "id": "nCbEGjlSuQKM"
      }
    },
    {
      "cell_type": "code",
      "source": [
        "%cd /content/drive/MyDrive/Colab Notebooks/rodinia_3.1/cuda/myocyte"
      ],
      "metadata": {
        "colab": {
          "base_uri": "https://localhost:8080/"
        },
        "id": "TaxaKYyHuYKx",
        "outputId": "3975fb71-ad05-4a3e-bfd9-26f56221f47a"
      },
      "execution_count": 94,
      "outputs": [
        {
          "output_type": "stream",
          "name": "stdout",
          "text": [
            "/content/drive/MyDrive/Colab Notebooks/rodinia_3.1/cuda/myocyte\n"
          ]
        }
      ]
    },
    {
      "cell_type": "code",
      "source": [
        "!make clean\n",
        "!make\n"
      ],
      "metadata": {
        "colab": {
          "base_uri": "https://localhost:8080/"
        },
        "id": "wHV_dVWxuhzH",
        "outputId": "e6efd386-52ce-4463-8d9f-b6189f106390"
      },
      "execution_count": 95,
      "outputs": [
        {
          "output_type": "stream",
          "name": "stdout",
          "text": [
            "rm *.o *.out output.txt\n",
            "rm: cannot remove '*.o': No such file or directory\n",
            "rm: cannot remove '*.out': No such file or directory\n",
            "rm: cannot remove 'output.txt': No such file or directory\n",
            "Makefile:43: recipe for target 'clean' failed\n",
            "make: *** [clean] Error 1\n",
            "nvcc\tmain.cu \\\n",
            "\t\t\t-c -O3 -g\n",
            "file.c(108): warning: result of call is not used\n",
            "\n",
            "file.c(116): warning: result of call is not used\n",
            "\n",
            "work.cu(126): warning: conversion from a string literal to \"char *\" is deprecated\n",
            "\n",
            "work.cu(135): warning: conversion from a string literal to \"char *\" is deprecated\n",
            "\n",
            "work_2.cu(171): warning: conversion from a string literal to \"char *\" is deprecated\n",
            "\n",
            "work_2.cu(185): warning: conversion from a string literal to \"char *\" is deprecated\n",
            "\n",
            "file.c(108): warning: result of call is not used\n",
            "\n",
            "file.c(116): warning: result of call is not used\n",
            "\n",
            "work.cu(126): warning: conversion from a string literal to \"char *\" is deprecated\n",
            "\n",
            "work.cu(135): warning: conversion from a string literal to \"char *\" is deprecated\n",
            "\n",
            "work_2.cu(171): warning: conversion from a string literal to \"char *\" is deprecated\n",
            "\n",
            "work_2.cu(185): warning: conversion from a string literal to \"char *\" is deprecated\n",
            "\n",
            "\u001b[01m\u001b[Kwork.cu:\u001b[m\u001b[K In function ‘\u001b[01m\u001b[Kint work(int, int)\u001b[m\u001b[K’:\n",
            "\u001b[01m\u001b[Kwork.cu:234:147:\u001b[m\u001b[K \u001b[01;35m\u001b[Kwarning: \u001b[m\u001b[Kunknown conversion type character ‘\u001b[01m\u001b[K:\u001b[m\u001b[K’ in format [\u001b[01;35m\u001b[K-Wformat=\u001b[m\u001b[K]\n",
            "  printf(\"%.12f s, %.12f % : SETUP VARIABLES\\n\",                (float) (time1-time0) / 1000000, (float) (time1-time0) / (float) (time5-time0) * 10\u001b[01;35m\u001b[K0\u001b[m\u001b[K);\n",
            "                                                                                                                                                   \u001b[01;35m\u001b[K^\u001b[m\u001b[K\n",
            "\u001b[01m\u001b[Kwork.cu:235:166:\u001b[m\u001b[K \u001b[01;35m\u001b[Kwarning: \u001b[m\u001b[Kunknown conversion type character ‘\u001b[01m\u001b[K:\u001b[m\u001b[K’ in format [\u001b[01;35m\u001b[K-Wformat=\u001b[m\u001b[K]\n",
            "  printf(\"%.12f s, %.12f % : ALLOCATE CPU MEMORY AND GPU MEMORY\\n\",     (float) (time2-time1) / 1000000, (float) (time2-time1) / (float) (time5-time0) * 100);\n",
            "                                                                                                                                                                      \u001b[01;35m\u001b[K^\u001b[m\u001b[K\n",
            "\u001b[01m\u001b[Kwork.cu:236:152:\u001b[m\u001b[K \u001b[01;35m\u001b[Kwarning: \u001b[m\u001b[Kunknown conversion type character ‘\u001b[01m\u001b[K:\u001b[m\u001b[K’ in format [\u001b[01;35m\u001b[K-Wformat=\u001b[m\u001b[K]\n",
            "  printf(\"%.12f s, %.12f % : READ DATA FROM FILES\\n\",             (float) (time3-time2) / 1000000, (float) (time3-time2) / (float) (time5-time0) * 100);\n",
            "                                                                                                                                                        \u001b[01;35m\u001b[K^\u001b[m\u001b[K\n",
            "\u001b[01m\u001b[Kwork.cu:237:147:\u001b[m\u001b[K \u001b[01;35m\u001b[Kwarning: \u001b[m\u001b[Kunknown conversion type character ‘\u001b[01m\u001b[K:\u001b[m\u001b[K’ in format [\u001b[01;35m\u001b[K-Wformat=\u001b[m\u001b[K]\n",
            "  printf(\"%.12f s, %.12f % : RUN COMPUTATION\\n\",               (float) (time4-time3) / 1000000, (float) (time4-time3) / (float) (time5-time0) * 100\u001b[01;35m\u001b[K)\u001b[m\u001b[K;\n",
            "                                                                                                                                                   \u001b[01;35m\u001b[K^\u001b[m\u001b[K\n",
            "\u001b[01m\u001b[Kwork.cu:238:143:\u001b[m\u001b[K \u001b[01;35m\u001b[Kwarning: \u001b[m\u001b[Kunknown conversion type character ‘\u001b[01m\u001b[K:\u001b[m\u001b[K’ in format [\u001b[01;35m\u001b[K-Wformat=\u001b[m\u001b[K]\n",
            "  printf(\"%.12f s, %.12f % : FREE MEMORY\\n\",                 (float) (time5-time4) / 1000000, (float) (time5-time4) / (float) (time5-time0) * 1\u001b[01;35m\u001b[K0\u001b[m\u001b[K0);\n",
            "                                                                                                                                               \u001b[01;35m\u001b[K^\u001b[m\u001b[K\n",
            "\u001b[01m\u001b[Kwork_2.cu:\u001b[m\u001b[K In function ‘\u001b[01m\u001b[Kint work_2(int, int)\u001b[m\u001b[K’:\n",
            "\u001b[01m\u001b[Kwork_2.cu:305:147:\u001b[m\u001b[K \u001b[01;35m\u001b[Kwarning: \u001b[m\u001b[Kunknown conversion type character ‘\u001b[01m\u001b[K:\u001b[m\u001b[K’ in format [\u001b[01;35m\u001b[K-Wformat=\u001b[m\u001b[K]\n",
            "  printf(\"%.12f s, %.12f % : SETUP VARIABLES\\n\",                (float) (time1-time0) / 1000000, (float) (time1-time0) / (float) (time6-time0) * 10\u001b[01;35m\u001b[K0\u001b[m\u001b[K);\n",
            "                                                                                                                                                   \u001b[01;35m\u001b[K^\u001b[m\u001b[K\n",
            "\u001b[01m\u001b[Kwork_2.cu:306:166:\u001b[m\u001b[K \u001b[01;35m\u001b[Kwarning: \u001b[m\u001b[Kunknown conversion type character ‘\u001b[01m\u001b[K:\u001b[m\u001b[K’ in format [\u001b[01;35m\u001b[K-Wformat=\u001b[m\u001b[K]\n",
            "  printf(\"%.12f s, %.12f % : ALLOCATE CPU MEMORY AND GPU MEMORY\\n\",     (float) (time2-time1) / 1000000, (float) (time2-time1) / (float) (time6-time0) * 100);\n",
            "                                                                                                                                                                      \u001b[01;35m\u001b[K^\u001b[m\u001b[K\n",
            "\u001b[01m\u001b[Kwork_2.cu:307:172:\u001b[m\u001b[K \u001b[01;35m\u001b[Kwarning: \u001b[m\u001b[Kunknown conversion type character ‘\u001b[01m\u001b[K:\u001b[m\u001b[K’ in format [\u001b[01;35m\u001b[K-Wformat=\u001b[m\u001b[K]\n",
            "  printf(\"%.12f s, %.12f % : READ DATA FROM FILES, COPY TO GPU MEMORY\\n\",   (float) (time3-time2) / 1000000, (float) (time3-time2) / (float) (time6-time0) * 100);\n",
            "                                                                                                                                                                            \u001b[01;35m\u001b[K^\u001b[m\u001b[K\n",
            "\u001b[01m\u001b[Kwork_2.cu:308:146:\u001b[m\u001b[K \u001b[01;35m\u001b[Kwarning: \u001b[m\u001b[Kunknown conversion type character ‘\u001b[01m\u001b[K:\u001b[m\u001b[K’ in format [\u001b[01;35m\u001b[K-Wformat=\u001b[m\u001b[K]\n",
            "  printf(\"%.12f s, %.12f % : RUN GPU KERNEL\\n\",                (float) (time4-time3) / 1000000, (float) (time4-time3) / (float) (time6-time0) * 10\u001b[01;35m\u001b[K0\u001b[m\u001b[K);\n",
            "                                                                                                                                                  \u001b[01;35m\u001b[K^\u001b[m\u001b[K\n",
            "\u001b[01m\u001b[Kwork_2.cu:309:159:\u001b[m\u001b[K \u001b[01;35m\u001b[Kwarning: \u001b[m\u001b[Kunknown conversion type character ‘\u001b[01m\u001b[K:\u001b[m\u001b[K’ in format [\u001b[01;35m\u001b[K-Wformat=\u001b[m\u001b[K]\n",
            "  printf(\"%.12f s, %.12f % : COPY GPU DATA TO CPU MEMORY\\n\",         (float) (time5-time4) / 1000000, (float) (time5-time4) / (float) (time6-time0) * 100);\n",
            "                                                                                                                                                               \u001b[01;35m\u001b[K^\u001b[m\u001b[K\n",
            "\u001b[01m\u001b[Kwork_2.cu:310:143:\u001b[m\u001b[K \u001b[01;35m\u001b[Kwarning: \u001b[m\u001b[Kunknown conversion type character ‘\u001b[01m\u001b[K:\u001b[m\u001b[K’ in format [\u001b[01;35m\u001b[K-Wformat=\u001b[m\u001b[K]\n",
            "  printf(\"%.12f s, %.12f % : FREE MEMORY\\n\",                 (float) (time6-time5) / 1000000, (float) (time6-time5) / (float) (time6-time0) * 1\u001b[01;35m\u001b[K0\u001b[m\u001b[K0);\n",
            "                                                                                                                                               \u001b[01;35m\u001b[K^\u001b[m\u001b[K\n",
            "\u001b[01m\u001b[Kfile.c:\u001b[m\u001b[K In function ‘\u001b[01m\u001b[Kvoid read(char*, float*, int, int, int)\u001b[m\u001b[K’:\n",
            "\u001b[01m\u001b[Kfile.c:108:7:\u001b[m\u001b[K \u001b[01;35m\u001b[Kwarning: \u001b[m\u001b[Kignoring return value of ‘\u001b[01m\u001b[Kint fscanf(FILE*, const char*, ...)\u001b[m\u001b[K’, declared with attribute warn_unused_result [\u001b[01;35m\u001b[K-Wunused-result\u001b[m\u001b[K]\n",
            " \u001b[01;35m\u001b[K    fscanf(fid, \"%f\", &t\u001b[m\u001b[Kemp);\n",
            "     \u001b[01;35m\u001b[K~~^~~~~~~~~~~~~~~~~~\u001b[m\u001b[K\n",
            "\u001b[01m\u001b[Kfile.c:116:7:\u001b[m\u001b[K \u001b[01;35m\u001b[Kwarning: \u001b[m\u001b[Kignoring return value of ‘\u001b[01m\u001b[Kint fscanf(FILE*, const char*, ...)\u001b[m\u001b[K’, declared with attribute warn_unused_result [\u001b[01;35m\u001b[K-Wunused-result\u001b[m\u001b[K]\n",
            " \u001b[01;35m\u001b[K    fscanf(fid, \"%f\", &t\u001b[m\u001b[Kemp);\n",
            "     \u001b[01;35m\u001b[K~~^~~~~~~~~~~~~~~~~~\u001b[m\u001b[K\n",
            "\u001b[01m\u001b[Kwork.cu:\u001b[m\u001b[K In function ‘\u001b[01m\u001b[Kint work(int, int)\u001b[m\u001b[K’:\n",
            "\u001b[01m\u001b[Kwork.cu:172:6:\u001b[m\u001b[K \u001b[01;35m\u001b[Kwarning: \u001b[m\u001b[Kargument 4 null where non-null expected [\u001b[01;35m\u001b[K-Wnonnull\u001b[m\u001b[K]\n",
            " \u001b[01;35m\u001b[K   fputs (\"fopen example\",pFi\u001b[m\u001b[Kle);\n",
            "    \u001b[01;35m\u001b[K~~^~~~~~~~~~~~~~~~~~~~~~~~\u001b[m\u001b[K\n",
            "\u001b[01m\u001b[Kwork.cu:172:6:\u001b[m\u001b[K \u001b[01;36m\u001b[Knote: \u001b[m\u001b[Kin a call to built-in function ‘\u001b[01m\u001b[Klong unsigned int __builtin_fwrite(const void*, size_t, size_t, FILE*)\u001b[m\u001b[K’\n",
            "nvcc\tmain.o \\\n",
            "\t\t\t-I/usr/local/cuda/include \\\n",
            "\t\t\t-L/usr/local/cuda/lib \\\n",
            "\t\t\t-lm -lcuda -lcudart \\\n",
            "                                -o myocyte.out\n"
          ]
        }
      ]
    },
    {
      "cell_type": "code",
      "source": [
        "!./myocyte.out 100 100 1"
      ],
      "metadata": {
        "colab": {
          "base_uri": "https://localhost:8080/"
        },
        "id": "Fmrj6PgmusaA",
        "outputId": "7928c50a-3b5c-43f4-9c65-4a40aca2eed6"
      },
      "execution_count": 98,
      "outputs": [
        {
          "output_type": "stream",
          "name": "stdout",
          "text": [
            "Time spent in different stages of the application:\n",
            "0.000000000000 s, 0.000000000000 % : SETUP VARIABLES\n",
            "0.136892005801 s, 13.809717178345 % : ALLOCATE CPU MEMORY AND GPU MEMORY\n",
            "0.145436003804 s, 14.671640396118 % : READ DATA FROM FILES, COPY TO GPU MEMORY\n",
            "0.000024000001 s, 0.002421129262 % : RUN GPU KERNEL\n",
            "0.708441972733 s, 71.467903137207 % : COPY GPU DATA TO CPU MEMORY\n",
            "0.000479000009 s, 0.048321705312 % : FREE MEMORY\n",
            "Total time:\n",
            "0.991272985935 s\n"
          ]
        }
      ]
    },
    {
      "cell_type": "code",
      "source": [
        "%cd /content/drive/MyDrive/Colab Notebooks/rodinia_3.1/openmp/myocyte"
      ],
      "metadata": {
        "colab": {
          "base_uri": "https://localhost:8080/"
        },
        "id": "PoPuFRDivTUR",
        "outputId": "f88d471b-715b-4a55-9cac-4b611f0e61c4"
      },
      "execution_count": 99,
      "outputs": [
        {
          "output_type": "stream",
          "name": "stdout",
          "text": [
            "/content/drive/MyDrive/Colab Notebooks/rodinia_3.1/openmp/myocyte\n"
          ]
        }
      ]
    },
    {
      "cell_type": "code",
      "source": [
        "!make"
      ],
      "metadata": {
        "colab": {
          "base_uri": "https://localhost:8080/"
        },
        "id": "zoTTWgvpvfOh",
        "outputId": "1163e1c9-c61a-4b0c-ba4e-5cc90ee6201f"
      },
      "execution_count": 100,
      "outputs": [
        {
          "output_type": "stream",
          "name": "stdout",
          "text": [
            "gcc\tmain.c \\\n",
            "\t\t-c -O3 -fopenmp\n",
            "\u001b[01m\u001b[Kmain.c:\u001b[m\u001b[K In function ‘\u001b[01m\u001b[Kmain\u001b[m\u001b[K’:\n",
            "\u001b[01m\u001b[Kmain.c:175:20:\u001b[m\u001b[K \u001b[01;35m\u001b[Kwarning: \u001b[m\u001b[Kformat ‘\u001b[01m\u001b[K%d\u001b[m\u001b[K’ expects argument of type ‘\u001b[01m\u001b[Kint\u001b[m\u001b[K’, but argument 2 has type ‘\u001b[01m\u001b[Klong int\u001b[m\u001b[K’ [\u001b[01;35m\u001b[K-Wformat=\u001b[m\u001b[K]\n",
            "    printf(\"ERROR: \u001b[01;35m\u001b[K%d\u001b[m\u001b[K is the incorrect end of simulation interval, use numbers > 0\\n\", xmax);\n",
            "                   \u001b[01;35m\u001b[K~^\u001b[m\u001b[K\n",
            "                   \u001b[32m\u001b[K%ld\u001b[m\u001b[K\n",
            "\u001b[01m\u001b[Kmain.c:185:20:\u001b[m\u001b[K \u001b[01;35m\u001b[Kwarning: \u001b[m\u001b[Kformat ‘\u001b[01m\u001b[K%d\u001b[m\u001b[K’ expects argument of type ‘\u001b[01m\u001b[Kint\u001b[m\u001b[K’, but argument 2 has type ‘\u001b[01m\u001b[Klong int\u001b[m\u001b[K’ [\u001b[01;35m\u001b[K-Wformat=\u001b[m\u001b[K]\n",
            "    printf(\"ERROR: \u001b[01;35m\u001b[K%d\u001b[m\u001b[K is the incorrect number of instances of simulation, use numbers > 0\\n\", workload);\n",
            "                   \u001b[01;35m\u001b[K~^\u001b[m\u001b[K\n",
            "                   \u001b[32m\u001b[K%ld\u001b[m\u001b[K\n",
            "\u001b[01m\u001b[Kmain.c:363:27:\u001b[m\u001b[K \u001b[01;35m\u001b[Kwarning: \u001b[m\u001b[Kunknown conversion type character ‘\u001b[01m\u001b[K:\u001b[m\u001b[K’ in format [\u001b[01;35m\u001b[K-Wformat=\u001b[m\u001b[K]\n",
            "  printf(\"%.12f s, %.12f % \u001b[01;35m\u001b[K:\u001b[m\u001b[K SETUP VARIABLES, READ COMMAND LINE ARGUMENTS\\n\",  (float) (time1-time0) / 1000000, (float) (time1-time0) / (float) (time5-time0) * 100);\n",
            "                           \u001b[01;35m\u001b[K^\u001b[m\u001b[K\n",
            "\u001b[01m\u001b[Kmain.c:364:27:\u001b[m\u001b[K \u001b[01;35m\u001b[Kwarning: \u001b[m\u001b[Kunknown conversion type character ‘\u001b[01m\u001b[K:\u001b[m\u001b[K’ in format [\u001b[01;35m\u001b[K-Wformat=\u001b[m\u001b[K]\n",
            "  printf(\"%.12f s, %.12f % \u001b[01;35m\u001b[K:\u001b[m\u001b[K ALLOCATE MEMORY\\n\",               (float) (time2-time1) / 1000000, (float) (time2-time1) / (float) (time5-time0) * 100);\n",
            "                           \u001b[01;35m\u001b[K^\u001b[m\u001b[K\n",
            "\u001b[01m\u001b[Kmain.c:365:27:\u001b[m\u001b[K \u001b[01;35m\u001b[Kwarning: \u001b[m\u001b[Kunknown conversion type character ‘\u001b[01m\u001b[K:\u001b[m\u001b[K’ in format [\u001b[01;35m\u001b[K-Wformat=\u001b[m\u001b[K]\n",
            "  printf(\"%.12f s, %.12f % \u001b[01;35m\u001b[K:\u001b[m\u001b[K READ DATA FROM FILES\\n\",             (float) (time3-time2) / 1000000, (float) (time3-time2) / (float) (time5-time0) * 100);\n",
            "                           \u001b[01;35m\u001b[K^\u001b[m\u001b[K\n",
            "\u001b[01m\u001b[Kmain.c:366:27:\u001b[m\u001b[K \u001b[01;35m\u001b[Kwarning: \u001b[m\u001b[Kunknown conversion type character ‘\u001b[01m\u001b[K:\u001b[m\u001b[K’ in format [\u001b[01;35m\u001b[K-Wformat=\u001b[m\u001b[K]\n",
            "  printf(\"%.12f s, %.12f % \u001b[01;35m\u001b[K:\u001b[m\u001b[K RUN COMPUTATION\\n\",               (float) (time4-time3) / 1000000, (float) (time4-time3) / (float) (time5-time0) * 100);\n",
            "                           \u001b[01;35m\u001b[K^\u001b[m\u001b[K\n",
            "\u001b[01m\u001b[Kmain.c:367:27:\u001b[m\u001b[K \u001b[01;35m\u001b[Kwarning: \u001b[m\u001b[Kunknown conversion type character ‘\u001b[01m\u001b[K:\u001b[m\u001b[K’ in format [\u001b[01;35m\u001b[K-Wformat=\u001b[m\u001b[K]\n",
            "  printf(\"%.12f s, %.12f % \u001b[01;35m\u001b[K:\u001b[m\u001b[K FREE MEMORY\\n\",                 (float) (time5-time4) / 1000000, (float) (time5-time4) / (float) (time5-time0) * 100);\n",
            "                           \u001b[01;35m\u001b[K^\u001b[m\u001b[K\n",
            "In file included from \u001b[01m\u001b[Kmain.c:91:0\u001b[m\u001b[K:\n",
            "\u001b[01m\u001b[Kfile.c:\u001b[m\u001b[K In function ‘\u001b[01m\u001b[Kread\u001b[m\u001b[K’:\n",
            "\u001b[01m\u001b[Kfile.c:109:5:\u001b[m\u001b[K \u001b[01;35m\u001b[Kwarning: \u001b[m\u001b[Kignoring return value of ‘\u001b[01m\u001b[Kfscanf\u001b[m\u001b[K’, declared with attribute warn_unused_result [\u001b[01;35m\u001b[K-Wunused-result\u001b[m\u001b[K]\n",
            "     \u001b[01;35m\u001b[Kfscanf(fid, \"%f\", &temp)\u001b[m\u001b[K;\n",
            "     \u001b[01;35m\u001b[K^~~~~~~~~~~~~~~~~~~~~~~~\u001b[m\u001b[K\n",
            "\u001b[01m\u001b[Kfile.c:117:5:\u001b[m\u001b[K \u001b[01;35m\u001b[Kwarning: \u001b[m\u001b[Kignoring return value of ‘\u001b[01m\u001b[Kfscanf\u001b[m\u001b[K’, declared with attribute warn_unused_result [\u001b[01;35m\u001b[K-Wunused-result\u001b[m\u001b[K]\n",
            "     \u001b[01;35m\u001b[Kfscanf(fid, \"%f\", &temp)\u001b[m\u001b[K;\n",
            "     \u001b[01;35m\u001b[K^~~~~~~~~~~~~~~~~~~~~~~~\u001b[m\u001b[K\n",
            "gcc\tmain.o \\\n",
            "\t\t-lm -fopenmp \\\n",
            "-o myocyte.out\n"
          ]
        }
      ]
    },
    {
      "cell_type": "code",
      "source": [
        "!./myocyte.out 100 100 1 1"
      ],
      "metadata": {
        "colab": {
          "base_uri": "https://localhost:8080/"
        },
        "id": "0ic4zPHXvocv",
        "outputId": "75472f01-f740-4525-fb11-e59044fd62a3"
      },
      "execution_count": 102,
      "outputs": [
        {
          "output_type": "stream",
          "name": "stdout",
          "text": [
            "The file was not opened for reading\n",
            "Time spent in different stages of the application:\n",
            "0.000009000000 s, 0.000522406888 % : SETUP VARIABLES, READ COMMAND LINE ARGUMENTS\n",
            "0.002894999925 s, 0.168040886521 % : ALLOCATE MEMORY\n",
            "0.134390994906 s, 7.800754070282 % : READ DATA FROM FILES\n",
            "1.584656000137 s, 91.981689453125 % : RUN COMPUTATION\n",
            "0.000844000024 s, 0.048990156502 % : FREE MEMORY\n",
            "Total time:\n",
            "1.722795009613 s\n"
          ]
        }
      ]
    },
    {
      "cell_type": "markdown",
      "source": [
        "### lavaMD"
      ],
      "metadata": {
        "id": "21umgFbAwNiN"
      }
    },
    {
      "cell_type": "code",
      "source": [
        "%cd /content/drive/MyDrive/Colab Notebooks/rodinia_3.1/cuda/lavaMD"
      ],
      "metadata": {
        "colab": {
          "base_uri": "https://localhost:8080/"
        },
        "id": "925M14qiwQzR",
        "outputId": "0c7e229c-5f6d-44fd-ea24-2802692c12fc"
      },
      "execution_count": 103,
      "outputs": [
        {
          "output_type": "stream",
          "name": "stdout",
          "text": [
            "/content/drive/MyDrive/Colab Notebooks/rodinia_3.1/cuda/lavaMD\n"
          ]
        }
      ]
    },
    {
      "cell_type": "code",
      "source": [
        "!make clean\n",
        "!make"
      ],
      "metadata": {
        "colab": {
          "base_uri": "https://localhost:8080/"
        },
        "id": "6NzOEa7Ywedr",
        "outputId": "e5d50e7d-3673-47ca-d241-7f3d6ace28d7"
      },
      "execution_count": 104,
      "outputs": [
        {
          "output_type": "stream",
          "name": "stdout",
          "text": [
            "rm\t*.o \\\n",
            "\t./kernel/*.o \\\n",
            "\t./util/num/*.o \\\n",
            "\t./util/timer/*.o \\\n",
            "\t./util/device/*.o \\\n",
            "\tlavaMD\n",
            "rm: cannot remove '*.o': No such file or directory\n",
            "rm: cannot remove './kernel/*.o': No such file or directory\n",
            "rm: cannot remove './util/num/*.o': No such file or directory\n",
            "rm: cannot remove './util/timer/*.o': No such file or directory\n",
            "rm: cannot remove './util/device/*.o': No such file or directory\n",
            "rm: cannot remove 'lavaMD': No such file or directory\n",
            "makefile:87: recipe for target 'clean' failed\n",
            "make: *** [clean] Error 1\n",
            "gcc\t  main.c \\\n",
            "\t\t-c \\\n",
            "\t\t-o main.o \\\n",
            "\t\t-O3\n",
            "\u001b[01m\u001b[Kmain.c:\u001b[m\u001b[K In function ‘\u001b[01m\u001b[Kmain\u001b[m\u001b[K’:\n",
            "\u001b[01m\u001b[Kmain.c:95:6:\u001b[m\u001b[K \u001b[01;35m\u001b[Kwarning: \u001b[m\u001b[Kimplicit declaration of function ‘\u001b[01m\u001b[Kstrcmp\u001b[m\u001b[K’ [\u001b[01;35m\u001b[K-Wimplicit-function-declaration\u001b[m\u001b[K]\n",
            "   if(\u001b[01;35m\u001b[Kstrcmp\u001b[m\u001b[K(argv[dim_cpu.cur_arg], \"-boxes1d\")==0){\n",
            "      \u001b[01;35m\u001b[K^~~~~~\u001b[m\u001b[K\n",
            "\u001b[01m\u001b[Kmain.c:228:8:\u001b[m\u001b[K \u001b[01;35m\u001b[Kwarning: \u001b[m\u001b[Kimplicit declaration of function ‘\u001b[01m\u001b[Ktime\u001b[m\u001b[K’; did you mean ‘\u001b[01m\u001b[Ktrue\u001b[m\u001b[K’? [\u001b[01;35m\u001b[K-Wimplicit-function-declaration\u001b[m\u001b[K]\n",
            "  srand(\u001b[01;35m\u001b[Ktime\u001b[m\u001b[K(NULL));\n",
            "        \u001b[01;35m\u001b[K^~~~\u001b[m\u001b[K\n",
            "        \u001b[32m\u001b[Ktrue\u001b[m\u001b[K\n",
            "/usr/local/cuda/bin/nvcc \t\t\t\t\t\t./kernel/kernel_gpu_cuda_wrapper.cu \\\n",
            "\t\t\t\t\t\t\t\t-c \\\n",
            "\t\t\t\t\t\t\t\t-o ./kernel/kernel_gpu_cuda_wrapper.o \\\n",
            "\t\t\t\t\t\t\t\t-O3 \\\n",
            "\t\t\t\t\t\t\t\t-arch sm_75\n",
            "\u001b[01m\u001b[K./kernel/kernel_gpu_cuda_wrapper.cu:\u001b[m\u001b[K In function ‘\u001b[01m\u001b[Kvoid kernel_gpu_cuda_wrapper(par_str, dim_str, box_str*, FOUR_VECTOR*, double*, FOUR_VECTOR*)\u001b[m\u001b[K’:\n",
            "\u001b[01m\u001b[K./kernel/kernel_gpu_cuda_wrapper.cu:66:23:\u001b[m\u001b[K \u001b[01;35m\u001b[Kwarning: \u001b[m\u001b[K‘\u001b[01m\u001b[KcudaError_t cudaThreadSynchronize()\u001b[m\u001b[K’ is deprecated [\u001b[01;35m\u001b[K-Wdeprecated-declarations\u001b[m\u001b[K]\n",
            "  cudaThreadSynchronize\u001b[01;35m\u001b[K(\u001b[m\u001b[K);\n",
            "                       \u001b[01;35m\u001b[K^\u001b[m\u001b[K\n",
            "\u001b[01m\u001b[K/usr/local/cuda/bin/../targets/x86_64-linux/include/cuda_runtime_api.h:1011:46:\u001b[m\u001b[K \u001b[01;36m\u001b[Knote: \u001b[m\u001b[Kdeclared here\n",
            " extern __CUDA_DEPRECATED __host__ cudaError_t\u001b[01;36m\u001b[K CUDARTAPI cudaThread\u001b[m\u001b[KSynchronize(void);\n",
            "                                              \u001b[01;36m\u001b[K^~~~~~~~~~~~~~~~~~~~~\u001b[m\u001b[K\n",
            "\u001b[01m\u001b[K./kernel/kernel_gpu_cuda_wrapper.cu:196:23:\u001b[m\u001b[K \u001b[01;35m\u001b[Kwarning: \u001b[m\u001b[K‘\u001b[01m\u001b[KcudaError_t cudaThreadSynchronize()\u001b[m\u001b[K’ is deprecated [\u001b[01;35m\u001b[K-Wdeprecated-declarations\u001b[m\u001b[K]\n",
            "  cudaThreadSynchronize\u001b[01;35m\u001b[K(\u001b[m\u001b[K);\n",
            "                       \u001b[01;35m\u001b[K^\u001b[m\u001b[K\n",
            "\u001b[01m\u001b[K/usr/local/cuda/bin/../targets/x86_64-linux/include/cuda_runtime_api.h:1011:46:\u001b[m\u001b[K \u001b[01;36m\u001b[Knote: \u001b[m\u001b[Kdeclared here\n",
            " extern __CUDA_DEPRECATED __host__ cudaError_t\u001b[01;36m\u001b[K CUDARTAPI cudaThread\u001b[m\u001b[KSynchronize(void);\n",
            "                                              \u001b[01;36m\u001b[K^~~~~~~~~~~~~~~~~~~~~\u001b[m\u001b[K\n",
            "\u001b[01m\u001b[K./kernel/kernel_gpu_cuda_wrapper.cu:228:165:\u001b[m\u001b[K \u001b[01;35m\u001b[Kwarning: \u001b[m\u001b[Kunknown conversion type character ‘\u001b[01m\u001b[K:\u001b[m\u001b[K’ in format [\u001b[01;35m\u001b[K-Wformat=\u001b[m\u001b[K]\n",
            "  printf(\"%15.12f s, %15.12f % : GPU: SET DEVICE / DRIVER INIT\\n\", (float) (time1-time0) / 1000000, (float) (time1-time0) / (float) (time6-time0) * 100);\n",
            "                                                                                                                                                                     \u001b[01;35m\u001b[K^\u001b[m\u001b[K\n",
            "\u001b[01m\u001b[K./kernel/kernel_gpu_cuda_wrapper.cu:229:148:\u001b[m\u001b[K \u001b[01;35m\u001b[Kwarning: \u001b[m\u001b[Kunknown conversion type character ‘\u001b[01m\u001b[K:\u001b[m\u001b[K’ in format [\u001b[01;35m\u001b[K-Wformat=\u001b[m\u001b[K]\n",
            "  printf(\"%15.12f s, %15.12f % : GPU MEM: ALO\\n\",      (float) (time2-time1) / 1000000, (float) (time2-time1) / (float) (time6-time0) * 100);\n",
            "                                                                                                                                                    \u001b[01;35m\u001b[K^\u001b[m\u001b[K\n",
            "\u001b[01m\u001b[K./kernel/kernel_gpu_cuda_wrapper.cu:230:152:\u001b[m\u001b[K \u001b[01;35m\u001b[Kwarning: \u001b[m\u001b[Kunknown conversion type character ‘\u001b[01m\u001b[K:\u001b[m\u001b[K’ in format [\u001b[01;35m\u001b[K-Wformat=\u001b[m\u001b[K]\n",
            "  printf(\"%15.12f s, %15.12f % : GPU MEM: COPY IN\\n\",     (float) (time3-time2) / 1000000, (float) (time3-time2) / (float) (time6-time0) * 100);\n",
            "                                                                                                                                                        \u001b[01;35m\u001b[K^\u001b[m\u001b[K\n",
            "\u001b[01m\u001b[K./kernel/kernel_gpu_cuda_wrapper.cu:232:147:\u001b[m\u001b[K \u001b[01;35m\u001b[Kwarning: \u001b[m\u001b[Kunknown conversion type character ‘\u001b[01m\u001b[K:\u001b[m\u001b[K’ in format [\u001b[01;35m\u001b[K-Wformat=\u001b[m\u001b[K]\n",
            "  printf(\"%15.12f s, %15.12f % : GPU: KERNEL\\n\",      (float) (time4-time3) / 1000000, (float) (time4-time3) / (float) (time6-time0) * 100);\n",
            "                                                                                                                                                   \u001b[01;35m\u001b[K^\u001b[m\u001b[K\n",
            "\u001b[01m\u001b[K./kernel/kernel_gpu_cuda_wrapper.cu:234:153:\u001b[m\u001b[K \u001b[01;35m\u001b[Kwarning: \u001b[m\u001b[Kunknown conversion type character ‘\u001b[01m\u001b[K:\u001b[m\u001b[K’ in format [\u001b[01;35m\u001b[K-Wformat=\u001b[m\u001b[K]\n",
            "  printf(\"%15.12f s, %15.12f % : GPU MEM: COPY OUT\\n\",    (float) (time5-time4) / 1000000, (float) (time5-time4) / (float) (time6-time0) * 100);\n",
            "                                                                                                                                                         \u001b[01;35m\u001b[K^\u001b[m\u001b[K\n",
            "\u001b[01m\u001b[K./kernel/kernel_gpu_cuda_wrapper.cu:235:148:\u001b[m\u001b[K \u001b[01;35m\u001b[Kwarning: \u001b[m\u001b[Kunknown conversion type character ‘\u001b[01m\u001b[K:\u001b[m\u001b[K’ in format [\u001b[01;35m\u001b[K-Wformat=\u001b[m\u001b[K]\n",
            "  printf(\"%15.12f s, %15.12f % : GPU MEM: FRE\\n\",      (float) (time6-time5) / 1000000, (float) (time6-time5) / (float) (time6-time0) * 100);\n",
            "                                                                                                                                                    \u001b[01;35m\u001b[K^\u001b[m\u001b[K\n",
            "gcc\t\t\t./util/num/num.c \\\n",
            "\t\t\t\t-c \\\n",
            "\t\t\t\t-o ./util/num/num.o \\\n",
            "\t\t\t\t-O3\n",
            "gcc\t\t\t\t./util/timer/timer.c \\\n",
            "\t\t\t\t\t-c \\\n",
            "\t\t\t\t\t-o ./util/timer/timer.o \\\n",
            "\t\t\t\t\t-O3\n",
            "\u001b[01m\u001b[K./util/timer/timer.c:\u001b[m\u001b[K In function ‘\u001b[01m\u001b[Kget_time\u001b[m\u001b[K’:\n",
            "\u001b[01m\u001b[K./util/timer/timer.c:26:2:\u001b[m\u001b[K \u001b[01;35m\u001b[Kwarning: \u001b[m\u001b[Kimplicit declaration of function ‘\u001b[01m\u001b[Kgettimeofday\u001b[m\u001b[K’; did you mean ‘\u001b[01m\u001b[Kget_time\u001b[m\u001b[K’? [\u001b[01;35m\u001b[K-Wimplicit-function-declaration\u001b[m\u001b[K]\n",
            "  \u001b[01;35m\u001b[Kgettimeofday\u001b[m\u001b[K(&tv, NULL);\n",
            "  \u001b[01;35m\u001b[K^~~~~~~~~~~~\u001b[m\u001b[K\n",
            "  \u001b[32m\u001b[Kget_time\u001b[m\u001b[K\n",
            "/usr/local/cuda/bin/nvcc\t\t\t./util/device/device.cu \\\n",
            "\t\t\t\t\t-c \\\n",
            "\t\t\t\t\t-o ./util/device/device.o \\\n",
            "\t\t\t\t\t-O3\n",
            "gcc\t main.o \\\n",
            "\t\t./kernel/kernel_gpu_cuda_wrapper.o \\\n",
            "\t\t./util/num/num.o \\\n",
            "\t\t./util/timer/timer.o \\\n",
            "\t\t./util/device/device.o \\\n",
            "\t\t-lm \\\n",
            "\t\t-L/usr/local/cuda/lib64 \\\n",
            "\t\t-lcuda -lcudart \\\n",
            "\t\t-lgomp \\\n",
            "\t\t-o lavaMD\n"
          ]
        }
      ]
    },
    {
      "cell_type": "code",
      "source": [
        "!./lavaMD -boxes1d 10"
      ],
      "metadata": {
        "colab": {
          "base_uri": "https://localhost:8080/"
        },
        "id": "VmkMMtLzwiNy",
        "outputId": "2631cea6-4170-415c-e056-fc51db6b47c9"
      },
      "execution_count": 106,
      "outputs": [
        {
          "output_type": "stream",
          "name": "stdout",
          "text": [
            "thread block size of kernel = 128 \n",
            "Configuration used: boxes1d = 10\n",
            "Time spent in different stages of GPU_CUDA KERNEL:\n",
            " 0.179131001234 s, 42.346252441406 % : GPU: SET DEVICE / DRIVER INIT\n",
            " 0.000339999999 s,  0.080375403166 % : GPU MEM: ALO\n",
            " 0.001948000048 s,  0.460503757000 % : GPU MEM: COPY IN\n",
            " 0.240237995982 s, 56.791843414307 % : GPU: KERNEL\n",
            " 0.000775000022 s,  0.183208629489 % : GPU MEM: COPY OUT\n",
            " 0.000583000015 s,  0.137820169330 % : GPU MEM: FRE\n",
            "Total time:\n",
            "0.423014998436 s\n"
          ]
        }
      ]
    },
    {
      "cell_type": "code",
      "source": [
        "%cd /content/drive/MyDrive/Colab Notebooks/rodinia_3.1/openmp/lavaMD"
      ],
      "metadata": {
        "colab": {
          "base_uri": "https://localhost:8080/"
        },
        "id": "ydRq2rmGwpaq",
        "outputId": "c6005097-ade4-4bc6-d8c5-12f84f505dd6"
      },
      "execution_count": 107,
      "outputs": [
        {
          "output_type": "stream",
          "name": "stdout",
          "text": [
            "/content/drive/MyDrive/Colab Notebooks/rodinia_3.1/openmp/lavaMD\n"
          ]
        }
      ]
    },
    {
      "cell_type": "code",
      "source": [
        "!make"
      ],
      "metadata": {
        "colab": {
          "base_uri": "https://localhost:8080/"
        },
        "id": "Msdmkvzgwvre",
        "outputId": "ef60098d-6e57-4605-e038-6d3ceca881d6"
      },
      "execution_count": 108,
      "outputs": [
        {
          "output_type": "stream",
          "name": "stdout",
          "text": [
            "gcc\t main.c \\\n",
            "\t\t-c \\\n",
            "\t\t-o main.o \\\n",
            "\t\t-O3\n",
            "\u001b[01m\u001b[Kmain.c:\u001b[m\u001b[K In function ‘\u001b[01m\u001b[Kmain\u001b[m\u001b[K’:\n",
            "\u001b[01m\u001b[Kmain.c:95:6:\u001b[m\u001b[K \u001b[01;35m\u001b[Kwarning: \u001b[m\u001b[Kimplicit declaration of function ‘\u001b[01m\u001b[Kstrcmp\u001b[m\u001b[K’ [\u001b[01;35m\u001b[K-Wimplicit-function-declaration\u001b[m\u001b[K]\n",
            "   if(\u001b[01;35m\u001b[Kstrcmp\u001b[m\u001b[K(argv[dim_cpu.cur_arg], \"-cores\")==0){\n",
            "      \u001b[01;35m\u001b[K^~~~~~\u001b[m\u001b[K\n",
            "\u001b[01m\u001b[Kmain.c:253:8:\u001b[m\u001b[K \u001b[01;35m\u001b[Kwarning: \u001b[m\u001b[Kimplicit declaration of function ‘\u001b[01m\u001b[Ktime\u001b[m\u001b[K’; did you mean ‘\u001b[01m\u001b[Ktrue\u001b[m\u001b[K’? [\u001b[01;35m\u001b[K-Wimplicit-function-declaration\u001b[m\u001b[K]\n",
            "  srand(\u001b[01;35m\u001b[Ktime\u001b[m\u001b[K(NULL));\n",
            "        \u001b[01;35m\u001b[K^~~~\u001b[m\u001b[K\n",
            "        \u001b[32m\u001b[Ktrue\u001b[m\u001b[K\n",
            "gcc\t\t\t\t./kernel/kernel_cpu.c \\\n",
            "\t\t\t\t\t-c \\\n",
            "\t\t\t\t\t-o ./kernel/kernel_cpu.o \\\n",
            "\t\t\t\t\t-O3 \\\n",
            "\t\t\t\t\t-fopenmp\n",
            "\u001b[01m\u001b[K./kernel/kernel_cpu.c:\u001b[m\u001b[K In function ‘\u001b[01m\u001b[Kkernel_cpu\u001b[m\u001b[K’:\n",
            "\u001b[01m\u001b[K./kernel/kernel_cpu.c:206:31:\u001b[m\u001b[K \u001b[01;35m\u001b[Kwarning: \u001b[m\u001b[Kunknown conversion type character ‘\u001b[01m\u001b[K:\u001b[m\u001b[K’ in format [\u001b[01;35m\u001b[K-Wformat=\u001b[m\u001b[K]\n",
            "  printf(\"%15.12f s, %15.12f % \u001b[01;35m\u001b[K:\u001b[m\u001b[K CPU/MCPU: VARIABLES\\n\",    (float) (time1-time0) / 1000000, (float) (time1-time0) / (float) (time4-time0) * 100);\n",
            "                               \u001b[01;35m\u001b[K^\u001b[m\u001b[K\n",
            "\u001b[01m\u001b[K./kernel/kernel_cpu.c:207:31:\u001b[m\u001b[K \u001b[01;35m\u001b[Kwarning: \u001b[m\u001b[Kunknown conversion type character ‘\u001b[01m\u001b[K:\u001b[m\u001b[K’ in format [\u001b[01;35m\u001b[K-Wformat=\u001b[m\u001b[K]\n",
            "  printf(\"%15.12f s, %15.12f % \u001b[01;35m\u001b[K:\u001b[m\u001b[K MCPU: SET DEVICE\\n\",     (float) (time2-time1) / 1000000, (float) (time2-time1) / (float) (time4-time0) * 100);\n",
            "                               \u001b[01;35m\u001b[K^\u001b[m\u001b[K\n",
            "\u001b[01m\u001b[K./kernel/kernel_cpu.c:208:31:\u001b[m\u001b[K \u001b[01;35m\u001b[Kwarning: \u001b[m\u001b[Kunknown conversion type character ‘\u001b[01m\u001b[K:\u001b[m\u001b[K’ in format [\u001b[01;35m\u001b[K-Wformat=\u001b[m\u001b[K]\n",
            "  printf(\"%15.12f s, %15.12f % \u001b[01;35m\u001b[K:\u001b[m\u001b[K CPU/MCPU: INPUTS\\n\",     (float) (time3-time2) / 1000000, (float) (time3-time2) / (float) (time4-time0) * 100);\n",
            "                               \u001b[01;35m\u001b[K^\u001b[m\u001b[K\n",
            "\u001b[01m\u001b[K./kernel/kernel_cpu.c:209:31:\u001b[m\u001b[K \u001b[01;35m\u001b[Kwarning: \u001b[m\u001b[Kunknown conversion type character ‘\u001b[01m\u001b[K:\u001b[m\u001b[K’ in format [\u001b[01;35m\u001b[K-Wformat=\u001b[m\u001b[K]\n",
            "  printf(\"%15.12f s, %15.12f % \u001b[01;35m\u001b[K:\u001b[m\u001b[K CPU/MCPU: KERNEL\\n\",     (float) (time4-time3) / 1000000, (float) (time4-time3) / (float) (time4-time0) * 100);\n",
            "                               \u001b[01;35m\u001b[K^\u001b[m\u001b[K\n",
            "gcc\t\t\t./util/num/num.c \\\n",
            "\t\t\t\t-c \\\n",
            "\t\t\t\t-o ./util/num/num.o \\\n",
            "\t\t\t\t-O3\n",
            "gcc\t\t\t\t./util/timer/timer.c \\\n",
            "\t\t\t\t\t-c \\\n",
            "\t\t\t\t\t-o ./util/timer/timer.o \\\n",
            "\t\t\t\t\t-O3\n",
            "\u001b[01m\u001b[K./util/timer/timer.c:\u001b[m\u001b[K In function ‘\u001b[01m\u001b[Kget_time\u001b[m\u001b[K’:\n",
            "\u001b[01m\u001b[K./util/timer/timer.c:26:2:\u001b[m\u001b[K \u001b[01;35m\u001b[Kwarning: \u001b[m\u001b[Kimplicit declaration of function ‘\u001b[01m\u001b[Kgettimeofday\u001b[m\u001b[K’; did you mean ‘\u001b[01m\u001b[Kget_time\u001b[m\u001b[K’? [\u001b[01;35m\u001b[K-Wimplicit-function-declaration\u001b[m\u001b[K]\n",
            "  \u001b[01;35m\u001b[Kgettimeofday\u001b[m\u001b[K(&tv, NULL);\n",
            "  \u001b[01;35m\u001b[K^~~~~~~~~~~~\u001b[m\u001b[K\n",
            "  \u001b[32m\u001b[Kget_time\u001b[m\u001b[K\n",
            "gcc\tmain.o \\\n",
            "\t\t./kernel/kernel_cpu.o \\\n",
            "\t\t./util/num/num.o \\\n",
            "\t\t./util/timer/timer.o \\\n",
            "\t\t-lm \\\n",
            "\t\t-lgomp \\\n",
            "\t\t-o lavaMD\n"
          ]
        }
      ]
    },
    {
      "cell_type": "code",
      "source": [
        "!./lavaMD -cores 4 -boxes1d 10"
      ],
      "metadata": {
        "colab": {
          "base_uri": "https://localhost:8080/"
        },
        "id": "zToAwIQ6w4NN",
        "outputId": "e86659b3-edea-477e-8eba-488b15b280a7"
      },
      "execution_count": 109,
      "outputs": [
        {
          "output_type": "stream",
          "name": "stdout",
          "text": [
            "Configuration used: cores = 4, boxes1d = 10\n",
            "Time spent in different stages of CPU/MCPU KERNEL:\n",
            " 0.000000000000 s,  0.000000000000 % : CPU/MCPU: VARIABLES\n",
            " 0.000010000000 s,  0.000149527652 % : MCPU: SET DEVICE\n",
            " 0.000000000000 s,  0.000000000000 % : CPU/MCPU: INPUTS\n",
            " 6.687716007233 s, 99.999847412109 % : CPU/MCPU: KERNEL\n",
            "Total time:\n",
            "6.687726020813 s\n"
          ]
        }
      ]
    }
  ]
}